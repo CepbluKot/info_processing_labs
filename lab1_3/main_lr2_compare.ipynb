{
 "cells": [
  {
   "cell_type": "code",
   "execution_count": 71,
   "metadata": {},
   "outputs": [],
   "source": [
    "import matplotlib.pyplot as plt\n",
    "import numpy as np\n",
    "import pandas as pd\n",
    "import statsmodels.api as sm"
   ]
  },
  {
   "cell_type": "code",
   "execution_count": 72,
   "metadata": {},
   "outputs": [],
   "source": [
    "df = pd.read_csv('mock_kaggle.csv')\n",
    "df = df.rename(columns={'data': 'date','venda': 'sold', 'estoque': 'stock', 'preco': 'price'})"
   ]
  },
  {
   "cell_type": "code",
   "execution_count": 73,
   "metadata": {},
   "outputs": [
    {
     "data": {
      "text/html": [
       "<div>\n",
       "<style scoped>\n",
       "    .dataframe tbody tr th:only-of-type {\n",
       "        vertical-align: middle;\n",
       "    }\n",
       "\n",
       "    .dataframe tbody tr th {\n",
       "        vertical-align: top;\n",
       "    }\n",
       "\n",
       "    .dataframe thead th {\n",
       "        text-align: right;\n",
       "    }\n",
       "</style>\n",
       "<table border=\"1\" class=\"dataframe\">\n",
       "  <thead>\n",
       "    <tr style=\"text-align: right;\">\n",
       "      <th></th>\n",
       "      <th>date</th>\n",
       "      <th>sold</th>\n",
       "      <th>stock</th>\n",
       "      <th>price</th>\n",
       "    </tr>\n",
       "  </thead>\n",
       "  <tbody>\n",
       "    <tr>\n",
       "      <th>0</th>\n",
       "      <td>2014-01-01</td>\n",
       "      <td>0</td>\n",
       "      <td>4972</td>\n",
       "      <td>1.29</td>\n",
       "    </tr>\n",
       "    <tr>\n",
       "      <th>1</th>\n",
       "      <td>2014-01-02</td>\n",
       "      <td>70</td>\n",
       "      <td>4902</td>\n",
       "      <td>1.29</td>\n",
       "    </tr>\n",
       "    <tr>\n",
       "      <th>2</th>\n",
       "      <td>2014-01-03</td>\n",
       "      <td>59</td>\n",
       "      <td>4843</td>\n",
       "      <td>1.29</td>\n",
       "    </tr>\n",
       "    <tr>\n",
       "      <th>3</th>\n",
       "      <td>2014-01-04</td>\n",
       "      <td>93</td>\n",
       "      <td>4750</td>\n",
       "      <td>1.29</td>\n",
       "    </tr>\n",
       "    <tr>\n",
       "      <th>4</th>\n",
       "      <td>2014-01-05</td>\n",
       "      <td>96</td>\n",
       "      <td>4654</td>\n",
       "      <td>1.29</td>\n",
       "    </tr>\n",
       "    <tr>\n",
       "      <th>...</th>\n",
       "      <td>...</td>\n",
       "      <td>...</td>\n",
       "      <td>...</td>\n",
       "      <td>...</td>\n",
       "    </tr>\n",
       "    <tr>\n",
       "      <th>932</th>\n",
       "      <td>2016-07-27</td>\n",
       "      <td>98</td>\n",
       "      <td>3179</td>\n",
       "      <td>2.39</td>\n",
       "    </tr>\n",
       "    <tr>\n",
       "      <th>933</th>\n",
       "      <td>2016-07-28</td>\n",
       "      <td>108</td>\n",
       "      <td>3071</td>\n",
       "      <td>2.39</td>\n",
       "    </tr>\n",
       "    <tr>\n",
       "      <th>934</th>\n",
       "      <td>2016-07-29</td>\n",
       "      <td>128</td>\n",
       "      <td>4095</td>\n",
       "      <td>2.39</td>\n",
       "    </tr>\n",
       "    <tr>\n",
       "      <th>935</th>\n",
       "      <td>2016-07-30</td>\n",
       "      <td>270</td>\n",
       "      <td>3825</td>\n",
       "      <td>2.39</td>\n",
       "    </tr>\n",
       "    <tr>\n",
       "      <th>936</th>\n",
       "      <td>2016-07-31</td>\n",
       "      <td>183</td>\n",
       "      <td>3642</td>\n",
       "      <td>2.39</td>\n",
       "    </tr>\n",
       "  </tbody>\n",
       "</table>\n",
       "<p>937 rows × 4 columns</p>\n",
       "</div>"
      ],
      "text/plain": [
       "           date  sold  stock  price\n",
       "0    2014-01-01     0   4972   1.29\n",
       "1    2014-01-02    70   4902   1.29\n",
       "2    2014-01-03    59   4843   1.29\n",
       "3    2014-01-04    93   4750   1.29\n",
       "4    2014-01-05    96   4654   1.29\n",
       "..          ...   ...    ...    ...\n",
       "932  2016-07-27    98   3179   2.39\n",
       "933  2016-07-28   108   3071   2.39\n",
       "934  2016-07-29   128   4095   2.39\n",
       "935  2016-07-30   270   3825   2.39\n",
       "936  2016-07-31   183   3642   2.39\n",
       "\n",
       "[937 rows x 4 columns]"
      ]
     },
     "execution_count": 73,
     "metadata": {},
     "output_type": "execute_result"
    }
   ],
   "source": [
    "df"
   ]
  },
  {
   "cell_type": "code",
   "execution_count": 74,
   "metadata": {},
   "outputs": [
    {
     "data": {
      "text/plain": [
       "<matplotlib.collections.PathCollection at 0x7fb6a5dce8c0>"
      ]
     },
     "execution_count": 74,
     "metadata": {},
     "output_type": "execute_result"
    },
    {
     "data": {
      "image/png": "[encoded data removed]",
      "text/plain": [
       "<Figure size 640x480 with 1 Axes>"
      ]
     },
     "metadata": {},
     "output_type": "display_data"
    }
   ],
   "source": [
    "# df.sold.plot()\n",
    "\n",
    "x_sold = df.index\n",
    "y_sold = df.sold\n",
    "\n",
    "plt.scatter(x_sold, y_sold, s=0.5, color='red')"
   ]
  },
  {
   "cell_type": "markdown",
   "metadata": {},
   "source": [
    "лр0"
   ]
  },
  {
   "cell_type": "code",
   "execution_count": 75,
   "metadata": {},
   "outputs": [],
   "source": [
    "lsm_data = []\n",
    "\n",
    "sum_xi_x_yi = 0\n",
    "\n",
    "id = 0\n",
    "while id < len(y_sold):\n",
    "    sum_xi_x_yi += x_sold[id] * y_sold[id]\n",
    "    id += 1\n",
    "\n",
    "sum_xi = sum(x_sold)\n",
    "sum_yi = sum(y_sold)\n",
    "\n",
    "sum_xi_squared = 0\n",
    "\n",
    "for val in x_sold:\n",
    "    sum_xi_squared += val ** 2\n",
    "\n",
    "n = len(x_sold)\n",
    "a = (n * sum_xi_x_yi - sum_xi*sum_yi) / (n * sum_xi_squared - sum_xi**2)\n",
    "b = (sum_yi - a * sum_xi) / n\n",
    "\n",
    "def graph(formula, x_range):  \n",
    "    x = np.array(x_range)  \n",
    "    y = formula(x)  # <- note now we're calling the function 'formula' with x\n",
    "    \n",
    "    for val in y:\n",
    "        lsm_data.append(val)\n",
    "    plt.plot(x, y)  \n",
    "\n",
    "\n",
    "def my_formula(x):\n",
    "    return a * x + b"
   ]
  },
  {
   "cell_type": "markdown",
   "metadata": {},
   "source": [
    "лр1"
   ]
  },
  {
   "cell_type": "code",
   "execution_count": 76,
   "metadata": {},
   "outputs": [],
   "source": [
    "\n",
    "\n",
    "endog_sold = y_sold\n",
    "exog_sold = sm.add_constant(x_sold)\n",
    "\n",
    "model_sold = sm.RecursiveLS(endog_sold, exog_sold)\n",
    "res_sold = model_sold.fit()\n",
    "\n",
    "\n",
    "rlsm_data =  res_sold.recursive_coefficients.filtered[0]"
   ]
  },
  {
   "cell_type": "markdown",
   "metadata": {},
   "source": [
    "сравнение"
   ]
  },
  {
   "cell_type": "code",
   "execution_count": 77,
   "metadata": {},
   "outputs": [
    {
     "data": {
      "text/plain": [
       "<matplotlib.collections.PathCollection at 0x7fb6a5de37c0>"
      ]
     },
     "execution_count": 77,
     "metadata": {},
     "output_type": "execute_result"
    },
    {
     "data": {
      "image/png": "[encoded data removed]",
      "text/plain": [
       "<Figure size 640x480 with 1 Axes>"
      ]
     },
     "metadata": {},
     "output_type": "display_data"
    }
   ],
   "source": [
    "res_sold.plot_recursive_coefficient(alpha=None)\n",
    "graph(my_formula, range(0, n))\n",
    "plt.scatter(x_sold, y_sold, s=0.2, color='red')"
   ]
  },
  {
   "cell_type": "code",
   "execution_count": 78,
   "metadata": {},
   "outputs": [],
   "source": [
    "def calculate_square_deviation(y_real, y_predict):\n",
    "    deviation = 0\n",
    "    for i in range(len(y_real)):\n",
    "        dev = y_real[i] - y_predict[i]\n",
    "        deviation += dev**2\n",
    "    return deviation"
   ]
  },
  {
   "cell_type": "code",
   "execution_count": 79,
   "metadata": {},
   "outputs": [
    {
     "data": {
      "text/html": [
       "<div>\n",
       "<style scoped>\n",
       "    .dataframe tbody tr th:only-of-type {\n",
       "        vertical-align: middle;\n",
       "    }\n",
       "\n",
       "    .dataframe tbody tr th {\n",
       "        vertical-align: top;\n",
       "    }\n",
       "\n",
       "    .dataframe thead th {\n",
       "        text-align: right;\n",
       "    }\n",
       "</style>\n",
       "<table border=\"1\" class=\"dataframe\">\n",
       "  <thead>\n",
       "    <tr style=\"text-align: right;\">\n",
       "      <th></th>\n",
       "      <th>Linearization_func_name</th>\n",
       "      <th>square_deviation</th>\n",
       "    </tr>\n",
       "  </thead>\n",
       "  <tbody>\n",
       "    <tr>\n",
       "      <th>0</th>\n",
       "      <td>МНК</td>\n",
       "      <td>5.669196e+06</td>\n",
       "    </tr>\n",
       "    <tr>\n",
       "      <th>1</th>\n",
       "      <td>РМНК</td>\n",
       "      <td>7.682049e+06</td>\n",
       "    </tr>\n",
       "  </tbody>\n",
       "</table>\n",
       "</div>"
      ],
      "text/plain": [
       "  Linearization_func_name  square_deviation\n",
       "0                     МНК      5.669196e+06\n",
       "1                    РМНК      7.682049e+06"
      ]
     },
     "execution_count": 79,
     "metadata": {},
     "output_type": "execute_result"
    }
   ],
   "source": [
    "square_dev_lsm = calculate_square_deviation(list(y_sold), lsm_data)\n",
    "square_dev_rlsm = calculate_square_deviation(list(y_sold), rlsm_data)\n",
    "\n",
    "linearization_funcs_data = pd.DataFrame(columns=['Linearization_func_name', 'square_deviation'])\n",
    "\n",
    "new_data = {'Linearization_func_name': 'МНК', 'square_deviation': square_dev_lsm}\n",
    "linearization_funcs_data.loc[len(linearization_funcs_data)] = new_data\n",
    "\n",
    "new_data = {'Linearization_func_name': 'РМНК', 'square_deviation': square_dev_rlsm}\n",
    "linearization_funcs_data.loc[len(linearization_funcs_data)] = new_data\n",
    "\n",
    "\n",
    "linearization_funcs_data"
   ]
  }
 ],
 "metadata": {
  "kernelspec": {
   "display_name": "Python 3",
   "language": "python",
   "name": "python3"
  },
  "language_info": {
   "codemirror_mode": {
    "name": "ipython",
    "version": 3
   },
   "file_extension": ".py",
   "mimetype": "text/x-python",
   "name": "python",
   "nbconvert_exporter": "python",
   "pygments_lexer": "ipython3",
   "version": "3.10.12"
  }
 },
 "nbformat": 4,
 "nbformat_minor": 2
}
